{
 "cells": [
  {
   "cell_type": "code",
   "execution_count": 1,
   "metadata": {},
   "outputs": [],
   "source": [
    "# Carregando Bibliotecas Python\n",
    "import numpy as np\n",
    "import pandas as pd\n",
    "import matplotlib.pyplot as plt\n",
    "import matplotlib as mpl\n",
    "import warnings\n",
    "warnings.filterwarnings(\"ignore\")\n",
    "%matplotlib inline "
   ]
  },
  {
   "cell_type": "code",
   "execution_count": 2,
   "metadata": {},
   "outputs": [
    {
     "data": {
      "image/png": "[encoded data removed]",
      "text/plain": [
       "<IPython.core.display.Image object>"
      ]
     },
     "execution_count": 2,
     "metadata": {},
     "output_type": "execute_result"
    }
   ],
   "source": [
    "# Fórmula Geral\n",
    "from IPython.display import Image\n",
    "Image('imagens/formula-gradient-descent1.png')"
   ]
  },
  {
   "cell_type": "code",
   "execution_count": 3,
   "metadata": {},
   "outputs": [],
   "source": [
    "# Carregando o Dataset\n",
    "from sklearn.datasets import load_boston\n",
    "boston = load_boston() "
   ]
  },
  {
   "cell_type": "code",
   "execution_count": 4,
   "metadata": {},
   "outputs": [],
   "source": [
    "# Convertendo o dataset em um dataframe\n",
    "dataset = pd.DataFrame(boston.data, columns = boston.feature_names)\n",
    "dataset['target'] = boston.target"
   ]
  },
  {
   "cell_type": "code",
   "execution_count": 5,
   "metadata": {},
   "outputs": [],
   "source": [
    "# Definindo x e y\n",
    "observations = len(dataset)\n",
    "X = dataset['RM'].values.reshape((observations,1)) \n",
    "X = np.column_stack((X,np.ones(observations))) \n",
    "y = dataset['target'].values "
   ]
  },
  {
   "cell_type": "code",
   "execution_count": 6,
   "metadata": {},
   "outputs": [],
   "source": [
    "import random\n",
    "\n",
    "# Valores randômicos para os coeficientes iniciais\n",
    "def random_w( p ):\n",
    "    return np.array([np.random.normal() for j in range(p)])"
   ]
  },
  {
   "cell_type": "code",
   "execution_count": 7,
   "metadata": {},
   "outputs": [],
   "source": [
    "# Cálculo da hipótese (valor aproximado de y)\n",
    "def hypothesis(X,w):\n",
    "    return np.dot(X,w)"
   ]
  },
  {
   "cell_type": "code",
   "execution_count": 8,
   "metadata": {},
   "outputs": [],
   "source": [
    "# Cálculo da função de perda (loss)\n",
    "def loss(X,w,y):\n",
    "    return hypothesis(X,w) - y"
   ]
  },
  {
   "cell_type": "code",
   "execution_count": 9,
   "metadata": {},
   "outputs": [],
   "source": [
    "# Cálculo do erro\n",
    "def squared_loss(X,w,y):\n",
    "    return loss(X,w,y)**2"
   ]
  },
  {
   "cell_type": "code",
   "execution_count": 10,
   "metadata": {},
   "outputs": [],
   "source": [
    "# Cálculo do gradiente\n",
    "def gradient(X,w,y):\n",
    "    gradients = list()\n",
    "    n = float(len( y ))\n",
    "    for j in range(len(w)):\n",
    "        gradients.append(np.sum(loss(X,w,y) * X[:,j]) / n)\n",
    "    return gradients"
   ]
  },
  {
   "cell_type": "code",
   "execution_count": 11,
   "metadata": {},
   "outputs": [],
   "source": [
    "# Atualização do valor dos coeficientes\n",
    "def update(X,w,y, alpha = 0.01):\n",
    "    return [t - alpha*g for t, g in zip(w, gradient(X,w,y))]"
   ]
  },
  {
   "cell_type": "code",
   "execution_count": 12,
   "metadata": {},
   "outputs": [],
   "source": [
    "# Otimização do modelo\n",
    "def optimize(X,y, alpha = 0.01, eta = 10**-12, iterations = 1000):\n",
    "    w = random_w(X.shape[1])\n",
    "    path = list()\n",
    "    for k in range(iterations):\n",
    "        SSL = np.sum(squared_loss(X,w,y))\n",
    "        new_w = update(X,w,y, alpha = alpha)\n",
    "        new_SSL = np.sum(squared_loss(X,new_w,y))\n",
    "        w = new_w\n",
    "        if k >= 5 and (new_SSL - SSL <= eta and new_SSL - SSL >= -eta):\n",
    "            path.append(new_SSL)\n",
    "            return w, path\n",
    "        if k % (iterations / 20) == 0:\n",
    "            path.append(new_SSL)\n",
    "    return w, path"
   ]
  },
  {
   "cell_type": "code",
   "execution_count": 13,
   "metadata": {},
   "outputs": [],
   "source": [
    "# Definindo o valor de alfa (taxa de aprendizagem)\n",
    "alpha = 0.048\n",
    "\n",
    "# Otimizando a Cost Function\n",
    "w, path = optimize(X, y, alpha, eta = 10**-12, iterations = 25000)"
   ]
  },
  {
   "cell_type": "code",
   "execution_count": 14,
   "metadata": {},
   "outputs": [
    {
     "name": "stdout",
     "output_type": "stream",
     "text": [
      "Valor Final dos Coeficientes: [9.10210331730668, -34.67058474787003]\n"
     ]
    }
   ],
   "source": [
    "# Imprimindo o resultado\n",
    "print (\"Valor Final dos Coeficientes: %s\" % w)"
   ]
  },
  {
   "cell_type": "code",
   "execution_count": 15,
   "metadata": {},
   "outputs": [
    {
     "name": "stdout",
     "output_type": "stream",
     "text": [
      "Percorrendo o Caminho do Gradiente em que o erro ao quadrado era:\n",
      "\n",
      " [90394.45465413798, 23811.93834828854, 22475.171364516686, 22159.48184934467, 22084.92893832922, 22067.322599588922, 22063.164704751336, 22062.182780585532, 22061.95089038507, 22061.896127433974, 22061.883194671806, 22061.880140483998, 22061.879419210152, 22061.87924887486, 22061.87920864865, 22061.879199148872, 22061.879196905415, 22061.879196375605, 22061.879196250484, 22061.879196220936, 22061.879196219896]\n"
     ]
    }
   ],
   "source": [
    "# Imprimindo o resultado\n",
    "print (\"Percorrendo o Caminho do Gradiente em que o erro ao quadrado era:\\n\\n %s\" % path)"
   ]
  }
 ],
 "metadata": {
  "kernelspec": {
   "display_name": "Python 3",
   "language": "python",
   "name": "python3"
  },
  "language_info": {
   "codemirror_mode": {
    "name": "ipython",
    "version": 3
   },
   "file_extension": ".py",
   "mimetype": "text/x-python",
   "name": "python",
   "nbconvert_exporter": "python",
   "pygments_lexer": "ipython3",
   "version": "3.7.3"
  }
 },
 "nbformat": 4,
 "nbformat_minor": 2
}
